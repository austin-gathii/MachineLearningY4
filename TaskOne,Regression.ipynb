{
  "nbformat": 4,
  "nbformat_minor": 0,
  "metadata": {
    "colab": {
      "name": "TaskOne,Regression.ipynb",
      "provenance": []
    },
    "kernelspec": {
      "name": "python3",
      "display_name": "Python 3"
    },
    "language_info": {
      "name": "python"
    }
  },
  "cells": [
    {
      "cell_type": "code",
      "metadata": {
        "id": "OkHifV4_wg_z"
      },
      "source": [
        "import numpy as np\n",
        "import random"
      ],
      "execution_count": 12,
      "outputs": []
    },
    {
      "cell_type": "code",
      "metadata": {
        "id": "yAB_r4X3wrbM"
      },
      "source": [
        "#creating a fake dataset\n",
        "#feature x, office size, mean:120sqft std:20sqft\n",
        "\n",
        "x = np.random.normal(120,20,[100])\n",
        "#feature y, office price, mean:2000000sh std:200000sh\n",
        "y = np.random.normal(1000000,200000,[100])\n",
        "x,y"
      ],
      "execution_count": null,
      "outputs": []
    },
    {
      "cell_type": "code",
      "metadata": {
        "id": "R30WHDUexiuU"
      },
      "source": [
        "def meanSquaredError(ypred,ytrue):\n",
        "  return np.mean((ytrue - ypred)**2)"
      ],
      "execution_count": 4,
      "outputs": []
    },
    {
      "cell_type": "code",
      "metadata": {
        "colab": {
          "base_uri": "https://localhost:8080/"
        },
        "id": "v3yhE-gux086",
        "outputId": "dc6193db-fdb8-4644-b0f8-67f4288cd678"
      },
      "source": [
        "m = random.randint(1,20000)\n",
        "def gradientDescent(x,y,m,learningrate):\n",
        "  iterations = 100\n",
        "  for i in range(iterations):\n",
        "    ypred = m*x\n",
        "    error = meanSquaredError(ypred,y)\n",
        "    m+=learningrate*np.mean(2*(y - ypred))\n",
        "    #print(m)\n",
        "  return m\n",
        "\n",
        "m = gradientDescent(x,y,m,0.0001)\n",
        "print(m)\n",
        "\n",
        "#prediction of 100 sqft\n",
        "m*100\n",
        "\n",
        "\n"
      ],
      "execution_count": 15,
      "outputs": [
        {
          "output_type": "stream",
          "text": [
            "7997.811432861567\n"
          ],
          "name": "stdout"
        },
        {
          "output_type": "execute_result",
          "data": {
            "text/plain": [
              "799781.1432861567"
            ]
          },
          "metadata": {
            "tags": []
          },
          "execution_count": 15
        }
      ]
    }
  ]
}